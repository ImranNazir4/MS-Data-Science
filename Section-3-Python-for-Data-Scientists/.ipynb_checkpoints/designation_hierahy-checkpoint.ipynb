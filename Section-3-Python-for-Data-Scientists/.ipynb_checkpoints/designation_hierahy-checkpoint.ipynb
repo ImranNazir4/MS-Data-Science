{
 "cells": [
  {
   "cell_type": "markdown",
   "id": "75113be4",
   "metadata": {},
   "source": [
    "# **Designation Hierarchy**"
   ]
  },
  {
   "cell_type": "code",
   "execution_count": 4,
   "id": "3a483a08",
   "metadata": {},
   "outputs": [],
   "source": [
    "# List of designations in each business structure, in hierarchical order\n",
    "banks = ['CEO', 'CTO', 'CFO', 'HR Manager', 'Marketing Manager', 'Sales Manager']\n",
    "banks=[str(i).lower() for i in banks]\n",
    "hospitals = ['Chief Medical Officer', 'Surgeon', 'Anesthesiologist', 'Nurse Manager', 'Pharmacist']\n",
    "hospitals=[str(i).lower() for i in hospitals]\n",
    "universities = ['President', 'Provost', 'Dean', 'Professor', 'Adjunct Professor', 'Teaching Assistant']\n",
    "universities=[str(i).lower() for i in universities]\n",
    "it_industries = ['Project Manager', 'Software Engineer', 'Frontend Developer', 'Backend Developer', 'Database Administrator']\n",
    "it_industries=[str(i).lower() for i in it_industries]\n",
    "# Example text to extract designations from"
   ]
  },
  {
   "cell_type": "code",
   "execution_count": 5,
   "id": "573f1cff",
   "metadata": {},
   "outputs": [],
   "source": [
    "#################################################################################################\n",
    "text = # add the text here that contain the designations\n",
    "\n",
    "##################################################################################################\n",
    "# Tokenize text and lowercase words\n",
    "words = text.lower().split()"
   ]
  },
  {
   "cell_type": "code",
   "execution_count": 6,
   "id": "a3f99b84",
   "metadata": {},
   "outputs": [],
   "source": [
    "# Initialize lists for each business structure\n",
    "bank_designations = []\n",
    "hospital_designations = []\n",
    "university_designations = []\n",
    "it_designations = []"
   ]
  },
  {
   "cell_type": "code",
   "execution_count": 7,
   "id": "b9f43e58",
   "metadata": {},
   "outputs": [],
   "source": [
    "# Iterate over words and check for matches in each business structure's list of designations\n",
    "for word in words:\n",
    "    if word in banks:\n",
    "        bank_designations.append(word)\n",
    "    elif word in hospitals:\n",
    "        hospital_designations.append(word)\n",
    "    elif word in universities:\n",
    "        university_designations.append(word)\n",
    "    elif word in it_industries:\n",
    "        it_designations.append(word)"
   ]
  },
  {
   "cell_type": "code",
   "execution_count": null,
   "id": "ae844717",
   "metadata": {},
   "outputs": [],
   "source": [
    "# Sort the lists of designations according to the hierarchy of designations\n",
    "sorted_bank_designations = sorted(bank_designations, key=lambda x: banks.index(x))\n",
    "sorted_hospital_designations = sorted(hospital_designations, key=lambda x: hospitals.index(x))\n",
    "sorted_university_designations = sorted(university_designations, key=lambda x: universities.index(x))\n",
    "sorted_it_designations = sorted(it_designations, key=lambda x: it_industries.index(x))"
   ]
  },
  {
   "cell_type": "code",
   "execution_count": null,
   "id": "6f68370c",
   "metadata": {},
   "outputs": [],
   "source": [
    "# Print the sorted lists of designations for each business structure\n",
    "print(\"Bank Designations:\", sorted_bank_designations)\n",
    "print(\"Hospital Designations:\", sorted_hospital_designations)\n",
    "print(\"University Designations:\", sorted_university_designations)\n",
    "print(\"IT Industry Designations:\", sorted_it_designations)"
   ]
  },
  {
   "cell_type": "markdown",
   "id": "f6ce693f",
   "metadata": {},
   "source": [
    "# **Limiations**"
   ]
  },
  {
   "cell_type": "markdown",
   "id": "e17725ad",
   "metadata": {},
   "source": [
    "- This code can recogize only given designations in the lists"
   ]
  },
  {
   "cell_type": "code",
   "execution_count": null,
   "id": "53d6bea9",
   "metadata": {},
   "outputs": [],
   "source": []
  }
 ],
 "metadata": {
  "kernelspec": {
   "display_name": "Python 3",
   "language": "python",
   "name": "python3"
  },
  "language_info": {
   "codemirror_mode": {
    "name": "ipython",
    "version": 3
   },
   "file_extension": ".py",
   "mimetype": "text/x-python",
   "name": "python",
   "nbconvert_exporter": "python",
   "pygments_lexer": "ipython3",
   "version": "3.9.5"
  }
 },
 "nbformat": 4,
 "nbformat_minor": 5
}
